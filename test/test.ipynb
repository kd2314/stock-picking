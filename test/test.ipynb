{
 "cells": [
  {
   "cell_type": "code",
   "id": "initial_id",
   "metadata": {
    "collapsed": true,
    "ExecuteTime": {
     "end_time": "2025-07-16T12:34:36.971025Z",
     "start_time": "2025-07-16T12:34:36.959786Z"
    }
   },
   "source": [
    "import json\n",
    "\n",
    "def deduplicate_json(input_file, output_file):\n",
    "    # 读取JSON文件\n",
    "    with open(input_file, 'r', encoding='utf-8') as f:\n",
    "        data = json.load(f)\n",
    "\n",
    "    # 使用字典进行去重\n",
    "    unique_dict = {}\n",
    "    for item in data:\n",
    "        key = (item['code'], item['name'])\n",
    "        if key not in unique_dict:\n",
    "            unique_dict[key] = item\n",
    "\n",
    "    # 将去重后的数据转换回列表\n",
    "    deduplicated_data = list(unique_dict.values())\n",
    "\n",
    "    # 写入新的JSON文件\n",
    "    with open(output_file, 'w', encoding='utf-8') as f:\n",
    "        json.dump(deduplicated_data, f, ensure_ascii=False, indent=2)\n",
    "\n",
    "    print(f\"原始数据数量: {len(data)}\")\n",
    "    print(f\"去重后数据数量: {len(deduplicated_data)}\")\n",
    "\n",
    "# 使用函数\n",
    "input_file = 'hushen300.json'\n",
    "output_file = 'hushen300_deduplicated.json'\n",
    "deduplicate_json(input_file, output_file)"
   ],
   "outputs": [
    {
     "name": "stdout",
     "output_type": "stream",
     "text": [
      "原始数据数量: 300\n",
      "去重后数据数量: 282\n"
     ]
    }
   ],
   "execution_count": 1
  },
  {
   "metadata": {
    "ExecuteTime": {
     "end_time": "2025-07-16T13:42:45.659142Z",
     "start_time": "2025-07-16T13:42:44.091525Z"
    }
   },
   "cell_type": "code",
   "source": [
    "import akshare as ak\n",
    "import pandas as pd\n",
    "\n",
    "def get_hushen300_stocks():\n",
    "    \"\"\"\n",
    "    获取沪深300成分股列表，返回包含股票代码和名称的DataFrame，\n",
    "    其中股票代码列名为 'code'，股票名称列名为 'name'。\n",
    "    对股票代码进行去重，保留首次出现的记录。\n",
    "    \"\"\"\n",
    "    df = ak.index_stock_cons(symbol=\"000300\")\n",
    "    stocks = pd.DataFrame({\n",
    "        'code': df['品种代码'],\n",
    "        'name': df['品种名称']\n",
    "    })\n",
    "    # 根据code去重，保留第一次出现的记录\n",
    "    stocks = stocks.drop_duplicates(subset=['code'], keep='first').reset_index(drop=True)\n",
    "    return stocks\n",
    "\n",
    "# 使用示例\n",
    "hushen300_stocks = get_hushen300_stocks()\n",
    "print(hushen300_stocks)\n",
    "as_unique_codes = hushen300_stocks['code'].tolist()\n",
    "print(type(as_unique_codes[0]))"
   ],
   "id": "72fc1bf3d7c0cb0d",
   "outputs": [
    {
     "name": "stdout",
     "output_type": "stream",
     "text": [
      "       code  name\n",
      "0    302132  中航成飞\n",
      "1    001391   国货航\n",
      "2    688047  龙芯中科\n",
      "3    002600  领益智造\n",
      "4    601077  渝农商行\n",
      "..      ...   ...\n",
      "277  600030  中信证券\n",
      "278  600031  三一重工\n",
      "279  600036  招商银行\n",
      "280  600050  中国联通\n",
      "281  000002   万科A\n",
      "\n",
      "[282 rows x 2 columns]\n",
      "<class 'str'>\n"
     ]
    }
   ],
   "execution_count": 10
  },
  {
   "metadata": {},
   "cell_type": "markdown",
   "source": "# Diff两个json的代码",
   "id": "8c4f0236c20389f0"
  },
  {
   "metadata": {
    "ExecuteTime": {
     "end_time": "2025-07-16T13:57:48.700406Z",
     "start_time": "2025-07-16T13:57:48.683177Z"
    }
   },
   "cell_type": "code",
   "source": [
    "def compare_json(json1_path, json2_path):\n",
    "    with open(json1_path, 'r', encoding='utf-8') as f1, open(json2_path, 'r', encoding='utf-8') as f2:\n",
    "        data1 = json.load(f1)\n",
    "        data2 = json.load(f2)\n",
    "\n",
    "    code_data1 = {item[\"code\"]: item for item in data1[\"signals\"]}\n",
    "    code_data2 = {item[\"code\"]: item for item in data2[\"signals\"]}\n",
    "\n",
    "    all_codes = set(code_data1.keys()).union(set(code_data2.keys()))\n",
    "    diffs = []\n",
    "    for code in all_codes:\n",
    "        item1 = code_data1.get(code, {})\n",
    "        item2 = code_data2.get(code, {})\n",
    "        keys1 = set(item1.keys())\n",
    "        keys2 = set(item2.keys())\n",
    "        all_keys = keys1.union(keys2)\n",
    "        for key in all_keys:\n",
    "            if key != \"code\" and item1.get(key) != item2.get(key):\n",
    "                diffs.append({\n",
    "                    \"code\": code,\n",
    "                    \"key\": key,\n",
    "                    \"value_in_json1\": item1.get(key),\n",
    "                    \"value_in_json2\": item2.get(key)\n",
    "                })\n",
    "    return diffs\n",
    "\n",
    "# 假设json1.json和json2.json是你要比较的两个文件路径\n",
    "json1_path = '../log/signal-linux-qstock.json'\n",
    "json2_path = '../log/signal-linux-akshare.json'\n",
    "differences = compare_json(json1_path, json2_path)\n",
    "for diff in differences:\n",
    "    print(diff)"
   ],
   "id": "d8433ad6a8fb84d",
   "outputs": [
    {
     "name": "stdout",
     "output_type": "stream",
     "text": [
      "{'code': '600085', 'key': 'signals', 'value_in_json1': {'顶钝化': False, '底钝化': False, '顶结构': False, '底结构': False, '顶背离': False, '底背离': False, '主升': False, '顶成立': False, '底成立': False}, 'value_in_json2': None}\n",
      "{'code': '600085', 'key': 'close', 'value_in_json1': 35.37, 'value_in_json2': None}\n",
      "{'code': '600085', 'key': 'name', 'value_in_json1': '同仁堂', 'value_in_json2': None}\n",
      "{'code': '600085', 'key': 'date', 'value_in_json1': '2025-07-16', 'value_in_json2': None}\n",
      "{'code': '600027', 'key': 'signals', 'value_in_json1': {'顶钝化': False, '底钝化': False, '顶结构': False, '底结构': False, '顶背离': False, '底背离': False, '主升': False, '顶成立': False, '底成立': False}, 'value_in_json2': {'顶钝化': False, '底钝化': True, '顶结构': False, '底结构': False, '顶背离': False, '底背离': True, '主升': False, '顶成立': False, '底成立': False}}\n",
      "{'code': '600690', 'key': 'name', 'value_in_json1': '海尔智家', 'value_in_json2': '青岛海尔'}\n",
      "{'code': '600406', 'key': 'signals', 'value_in_json1': {'顶钝化': False, '底钝化': False, '顶结构': False, '底结构': False, '顶背离': False, '底背离': False, '主升': False, '顶成立': False, '底成立': False}, 'value_in_json2': {'顶钝化': False, '底钝化': True, '顶结构': False, '底结构': False, '顶背离': False, '底背离': True, '主升': False, '顶成立': False, '底成立': False}}\n",
      "{'code': '600111', 'key': 'name', 'value_in_json1': '北方稀土', 'value_in_json2': '包钢稀土'}\n",
      "{'code': '000100', 'key': 'name', 'value_in_json1': 'TCL科技', 'value_in_json2': 'TCL集团'}\n",
      "{'code': '600588', 'key': 'name', 'value_in_json1': '用友网络', 'value_in_json2': '用友软件'}\n",
      "{'code': '002241', 'key': 'name', 'value_in_json1': '歌尔股份', 'value_in_json2': '歌尔声学'}\n",
      "{'code': '600023', 'key': 'signals', 'value_in_json1': {'顶钝化': False, '底钝化': False, '顶结构': False, '底结构': False, '顶背离': False, '底背离': False, '主升': False, '顶成立': False, '底成立': False}, 'value_in_json2': {'顶钝化': False, '底钝化': True, '顶结构': False, '底结构': False, '顶背离': False, '底背离': True, '主升': False, '顶成立': False, '底成立': False}}\n",
      "{'code': '301269', 'key': 'signals', 'value_in_json1': {'顶钝化': False, '底钝化': False, '顶结构': False, '底结构': False, '顶背离': False, '底背离': False, '主升': False, '顶成立': False, '底成立': False}, 'value_in_json2': None}\n",
      "{'code': '301269', 'key': 'close', 'value_in_json1': 109.42, 'value_in_json2': None}\n",
      "{'code': '301269', 'key': 'name', 'value_in_json1': '华大九天', 'value_in_json2': None}\n",
      "{'code': '301269', 'key': 'date', 'value_in_json1': '2025-07-16', 'value_in_json2': None}\n",
      "{'code': '300433', 'key': 'signals', 'value_in_json1': {'顶钝化': False, '底钝化': False, '顶结构': False, '底结构': False, '顶背离': False, '底背离': False, '主升': False, '顶成立': False, '底成立': False}, 'value_in_json2': None}\n",
      "{'code': '300433', 'key': 'close', 'value_in_json1': 23.5, 'value_in_json2': None}\n",
      "{'code': '300433', 'key': 'name', 'value_in_json1': '蓝思科技', 'value_in_json2': None}\n",
      "{'code': '300433', 'key': 'date', 'value_in_json1': '2025-07-16', 'value_in_json2': None}\n",
      "{'code': '600000', 'key': 'signals', 'value_in_json1': {'顶钝化': False, '底钝化': False, '顶结构': False, '底结构': False, '顶背离': False, '底背离': False, '主升': False, '顶成立': False, '底成立': False}, 'value_in_json2': None}\n",
      "{'code': '600000', 'key': 'close', 'value_in_json1': 13.34, 'value_in_json2': None}\n",
      "{'code': '600000', 'key': 'name', 'value_in_json1': '浦发银行', 'value_in_json2': None}\n",
      "{'code': '600000', 'key': 'date', 'value_in_json1': '2025-07-16', 'value_in_json2': None}\n",
      "{'code': '601808', 'key': 'signals', 'value_in_json1': {'顶钝化': False, '底钝化': False, '顶结构': False, '底结构': False, '顶背离': False, '底背离': False, '主升': False, '顶成立': False, '底成立': False}, 'value_in_json2': None}\n",
      "{'code': '601808', 'key': 'close', 'value_in_json1': 13.7, 'value_in_json2': None}\n",
      "{'code': '601808', 'key': 'name', 'value_in_json1': '中海油服', 'value_in_json2': None}\n",
      "{'code': '601808', 'key': 'date', 'value_in_json1': '2025-07-16', 'value_in_json2': None}\n",
      "{'code': '601012', 'key': 'name', 'value_in_json1': '隆基绿能', 'value_in_json2': '隆基股份'}\n",
      "{'code': '600893', 'key': 'name', 'value_in_json1': '航发动力', 'value_in_json2': '航空动力'}\n",
      "{'code': '600196', 'key': 'signals', 'value_in_json1': {'顶钝化': True, '底钝化': False, '顶结构': False, '底结构': False, '顶背离': True, '底背离': False, '主升': False, '顶成立': False, '底成立': False}, 'value_in_json2': None}\n",
      "{'code': '600196', 'key': 'close', 'value_in_json1': 26.2, 'value_in_json2': None}\n",
      "{'code': '600196', 'key': 'name', 'value_in_json1': '复星医药', 'value_in_json2': None}\n",
      "{'code': '600196', 'key': 'date', 'value_in_json1': '2025-07-16', 'value_in_json2': None}\n",
      "{'code': '600332', 'key': 'name', 'value_in_json1': '白云山', 'value_in_json2': '广州药业'}\n",
      "{'code': '601888', 'key': 'name', 'value_in_json1': '中国中免', 'value_in_json2': '中国国旅'}\n",
      "{'code': '601766', 'key': 'name', 'value_in_json1': '中国中车', 'value_in_json2': '中国南车'}\n",
      "{'code': '002493', 'key': 'signals', 'value_in_json1': {'顶钝化': False, '底钝化': False, '顶结构': False, '底结构': False, '顶背离': False, '底背离': False, '主升': False, '顶成立': False, '底成立': False}, 'value_in_json2': None}\n",
      "{'code': '002493', 'key': 'close', 'value_in_json1': 8.44, 'value_in_json2': None}\n",
      "{'code': '002493', 'key': 'name', 'value_in_json1': '荣盛石化', 'value_in_json2': None}\n",
      "{'code': '002493', 'key': 'date', 'value_in_json1': '2025-07-16', 'value_in_json2': None}\n",
      "{'code': '600048', 'key': 'name', 'value_in_json1': '保利发展', 'value_in_json2': '保利地产'}\n",
      "{'code': '002050', 'key': 'signals', 'value_in_json1': {'顶钝化': False, '底钝化': False, '顶结构': False, '底结构': False, '顶背离': False, '底背离': False, '主升': False, '顶成立': False, '底成立': False}, 'value_in_json2': None}\n",
      "{'code': '002050', 'key': 'close', 'value_in_json1': 27.79, 'value_in_json2': None}\n",
      "{'code': '002050', 'key': 'name', 'value_in_json1': '三花智控', 'value_in_json2': None}\n",
      "{'code': '002050', 'key': 'date', 'value_in_json1': '2025-07-16', 'value_in_json2': None}\n",
      "{'code': '002601', 'key': 'name', 'value_in_json1': '龙佰集团', 'value_in_json2': '龙蟒佰利'}\n",
      "{'code': '600061', 'key': 'name', 'value_in_json1': '国投资本', 'value_in_json2': '国投安信'}\n",
      "{'code': '600309', 'key': 'signals', 'value_in_json1': {'顶钝化': False, '底钝化': False, '顶结构': False, '底结构': False, '顶背离': False, '底背离': False, '主升': False, '顶成立': False, '底成立': False}, 'value_in_json2': None}\n",
      "{'code': '600309', 'key': 'close', 'value_in_json1': 54.85, 'value_in_json2': None}\n",
      "{'code': '600309', 'key': 'name', 'value_in_json1': '万华化学', 'value_in_json2': None}\n",
      "{'code': '600309', 'key': 'date', 'value_in_json1': '2025-07-16', 'value_in_json2': None}\n",
      "{'code': '300408', 'key': 'signals', 'value_in_json1': {'顶钝化': False, '底钝化': False, '顶结构': False, '底结构': False, '顶背离': False, '底背离': False, '主升': False, '顶成立': False, '底成立': False}, 'value_in_json2': None}\n",
      "{'code': '300408', 'key': 'close', 'value_in_json1': 32.01, 'value_in_json2': None}\n",
      "{'code': '300408', 'key': 'name', 'value_in_json1': '三环集团', 'value_in_json2': None}\n",
      "{'code': '300408', 'key': 'date', 'value_in_json1': '2025-07-16', 'value_in_json2': None}\n",
      "{'code': '600795', 'key': 'signals', 'value_in_json1': {'顶钝化': False, '底钝化': False, '顶结构': False, '底结构': False, '顶背离': False, '底背离': False, '主升': False, '顶成立': False, '底成立': False}, 'value_in_json2': None}\n",
      "{'code': '600795', 'key': 'close', 'value_in_json1': 4.71, 'value_in_json2': None}\n",
      "{'code': '600795', 'key': 'name', 'value_in_json1': '国电电力', 'value_in_json2': None}\n",
      "{'code': '600795', 'key': 'date', 'value_in_json1': '2025-07-16', 'value_in_json2': None}\n",
      "{'code': '002129', 'key': 'name', 'value_in_json1': 'TCL中环', 'value_in_json2': '中环股份'}\n",
      "{'code': '000425', 'key': 'name', 'value_in_json1': '徐工机械', 'value_in_json2': '徐工科技'}\n",
      "{'code': '000768', 'key': 'name', 'value_in_json1': '中航西飞', 'value_in_json2': '西飞国际'}\n",
      "{'code': '688041', 'key': 'signals', 'value_in_json1': {'顶钝化': False, '底钝化': False, '顶结构': False, '底结构': False, '顶背离': False, '底背离': False, '主升': False, '顶成立': False, '底成立': False}, 'value_in_json2': None}\n",
      "{'code': '688041', 'key': 'close', 'value_in_json1': 137.28, 'value_in_json2': None}\n",
      "{'code': '688041', 'key': 'name', 'value_in_json1': '海光信息', 'value_in_json2': None}\n",
      "{'code': '688041', 'key': 'date', 'value_in_json1': '2025-07-16', 'value_in_json2': None}\n",
      "{'code': '601865', 'key': 'signals', 'value_in_json1': {'顶钝化': False, '底钝化': False, '顶结构': False, '底结构': False, '顶背离': False, '底背离': False, '主升': False, '顶成立': False, '底成立': False}, 'value_in_json2': None}\n",
      "{'code': '601865', 'key': 'close', 'value_in_json1': 16.14, 'value_in_json2': None}\n",
      "{'code': '601865', 'key': 'name', 'value_in_json1': '福莱特', 'value_in_json2': None}\n",
      "{'code': '601865', 'key': 'date', 'value_in_json1': '2025-07-16', 'value_in_json2': None}\n",
      "{'code': '688256', 'key': 'signals', 'value_in_json1': {'顶钝化': False, '底钝化': False, '顶结构': False, '底结构': False, '顶背离': False, '底背离': False, '主升': False, '顶成立': False, '底成立': False}, 'value_in_json2': None}\n",
      "{'code': '688256', 'key': 'close', 'value_in_json1': 579.01, 'value_in_json2': None}\n",
      "{'code': '688256', 'key': 'name', 'value_in_json1': '寒武纪', 'value_in_json2': None}\n",
      "{'code': '688256', 'key': 'date', 'value_in_json1': '2025-07-16', 'value_in_json2': None}\n",
      "{'code': '688008', 'key': 'signals', 'value_in_json1': {'顶钝化': True, '底钝化': False, '顶结构': False, '底结构': False, '顶背离': True, '底背离': False, '主升': False, '顶成立': False, '底成立': False}, 'value_in_json2': {'顶钝化': False, '底钝化': False, '顶结构': False, '底结构': False, '顶背离': False, '底背离': False, '主升': False, '顶成立': False, '底成立': False}}\n",
      "{'code': '600346', 'key': 'name', 'value_in_json1': '恒力石化', 'value_in_json2': '恒力股份'}\n",
      "{'code': '600346', 'key': 'signals', 'value_in_json1': {'顶钝化': False, '底钝化': True, '顶结构': False, '底结构': False, '顶背离': False, '底背离': True, '主升': False, '顶成立': False, '底成立': False}, 'value_in_json2': {'顶钝化': False, '底钝化': False, '顶结构': False, '底结构': False, '顶背离': False, '底背离': False, '主升': False, '顶成立': False, '底成立': False}}\n",
      "{'code': '601919', 'key': 'name', 'value_in_json1': '中远海控', 'value_in_json2': '中国远洋'}\n",
      "{'code': '601816', 'key': 'signals', 'value_in_json1': {'顶钝化': False, '底钝化': False, '顶结构': False, '底结构': True, '顶背离': False, '底背离': True, '主升': False, '顶成立': False, '底成立': False}, 'value_in_json2': {'顶钝化': False, '底钝化': False, '顶结构': False, '底结构': False, '顶背离': False, '底背离': False, '主升': False, '顶成立': False, '底成立': False}}\n",
      "{'code': '600900', 'key': 'signals', 'value_in_json1': {'顶钝化': False, '底钝化': False, '顶结构': False, '底结构': False, '顶背离': False, '底背离': False, '主升': False, '顶成立': False, '底成立': False}, 'value_in_json2': None}\n",
      "{'code': '600900', 'key': 'close', 'value_in_json1': 30.43, 'value_in_json2': None}\n",
      "{'code': '600900', 'key': 'name', 'value_in_json1': '长江电力', 'value_in_json2': None}\n",
      "{'code': '600900', 'key': 'date', 'value_in_json1': '2025-07-16', 'value_in_json2': None}\n",
      "{'code': '600741', 'key': 'signals', 'value_in_json1': {'顶钝化': False, '底钝化': False, '顶结构': False, '底结构': False, '顶背离': False, '底背离': False, '主升': False, '顶成立': False, '底成立': False}, 'value_in_json2': None}\n",
      "{'code': '600741', 'key': 'close', 'value_in_json1': 18.57, 'value_in_json2': None}\n",
      "{'code': '600741', 'key': 'name', 'value_in_json1': '华域汽车', 'value_in_json2': None}\n",
      "{'code': '600741', 'key': 'date', 'value_in_json1': '2025-07-16', 'value_in_json2': None}\n",
      "{'code': '600104', 'key': 'signals', 'value_in_json1': {'顶钝化': False, '底钝化': False, '顶结构': False, '底结构': False, '顶背离': False, '底背离': False, '主升': False, '顶成立': False, '底成立': False}, 'value_in_json2': None}\n",
      "{'code': '600104', 'key': 'close', 'value_in_json1': 18.01, 'value_in_json2': None}\n",
      "{'code': '600104', 'key': 'name', 'value_in_json1': '上汽集团', 'value_in_json2': None}\n",
      "{'code': '600104', 'key': 'date', 'value_in_json1': '2025-07-16', 'value_in_json2': None}\n",
      "{'code': '601211', 'key': 'name', 'value_in_json1': '国泰海通', 'value_in_json2': '国泰君安'}\n",
      "{'code': '600115', 'key': 'name', 'value_in_json1': '中国东航', 'value_in_json2': '东方航空'}\n",
      "{'code': '000001', 'key': 'name', 'value_in_json1': '平安银行', 'value_in_json2': '深发展A'}\n",
      "{'code': '000786', 'key': 'signals', 'value_in_json1': {'顶钝化': False, '底钝化': False, '顶结构': False, '底结构': False, '顶背离': False, '底背离': False, '主升': False, '顶成立': False, '底成立': False}, 'value_in_json2': None}\n",
      "{'code': '000786', 'key': 'close', 'value_in_json1': 26.0, 'value_in_json2': None}\n",
      "{'code': '000786', 'key': 'name', 'value_in_json1': '北新建材', 'value_in_json2': None}\n",
      "{'code': '000786', 'key': 'date', 'value_in_json1': '2025-07-16', 'value_in_json2': None}\n",
      "{'code': '601669', 'key': 'name', 'value_in_json1': '中国电建', 'value_in_json2': '中国水电'}\n"
     ]
    }
   ],
   "execution_count": 14
  },
  {
   "metadata": {},
   "cell_type": "markdown",
   "source": "# QS接口的沪深300",
   "id": "7a9aa700a206160f"
  },
  {
   "metadata": {
    "ExecuteTime": {
     "end_time": "2025-07-16T13:42:58.488747Z",
     "start_time": "2025-07-16T13:42:58.471656Z"
    }
   },
   "cell_type": "code",
   "source": [
    "import json\n",
    "\n",
    "# 读取并提取股票代码（最简版本）\n",
    "with open('../log/signal-linux-qstock.json', 'r', encoding='utf-8') as f:\n",
    "    data = json.load(f)\n",
    "\n",
    "# 提取所有code并去重排序\n",
    "qs_unique_codes = sorted(list(set(item['code'] for item in data['signals'])))\n",
    "\n",
    "# 打印结果\n",
    "print(f\"共提取到 {len(qs_unique_codes)} 个唯一股票代码:\")\n",
    "for i, code in enumerate(qs_unique_codes, 1):\n",
    "    print(f\"{code:8}\", end=\"\")\n",
    "    if i % 10 == 0:  # 每10个换行\n",
    "        print()\n",
    "\n",
    "print(f\"\\n\\n代码列表: {qs_unique_codes}\")\n",
    "print(type(qs_unique_codes[0]))"
   ],
   "id": "a1cb3c3ea6dcd300",
   "outputs": [
    {
     "name": "stdout",
     "output_type": "stream",
     "text": [
      "共提取到 300 个唯一股票代码:\n",
      "000001  000002  000063  000100  000157  000166  000301  000333  000338  000408  \n",
      "000425  000538  000568  000596  000617  000625  000630  000651  000661  000708  \n",
      "000725  000768  000776  000786  000792  000800  000807  000858  000876  000895  \n",
      "000938  000963  000975  000977  000983  000999  001289  001391  001965  001979  \n",
      "002001  002027  002028  002049  002050  002074  002129  002142  002179  002180  \n",
      "002230  002236  002241  002252  002304  002311  002352  002371  002415  002422  \n",
      "002459  002460  002463  002466  002475  002493  002594  002600  002601  002648  \n",
      "002709  002714  002736  002916  002920  002938  003816  300014  300015  300033  \n",
      "300059  300122  300124  300274  300308  300316  300347  300394  300408  300413  \n",
      "300418  300433  300442  300498  300502  300628  300661  300750  300759  300760  \n",
      "300782  300832  300896  300979  300999  301236  301269  302132  600000  600009  \n",
      "600010  600011  600015  600016  600018  600019  600023  600025  600026  600027  \n",
      "600028  600029  600030  600031  600036  600039  600048  600050  600061  600066  \n",
      "600085  600089  600104  600111  600115  600150  600160  600161  600176  600183  \n",
      "600188  600196  600219  600233  600276  600309  600332  600346  600362  600372  \n",
      "600377  600406  600415  600426  600436  600438  600460  600482  600489  600515  \n",
      "600519  600547  600570  600584  600585  600588  600600  600660  600674  600690  \n",
      "600741  600760  600795  600803  600809  600845  600875  600886  600887  600893  \n",
      "600900  600905  600918  600919  600926  600938  600941  600958  600989  600999  \n",
      "601006  601009  601012  601021  601058  601059  601066  601077  601088  601100  \n",
      "601111  601117  601127  601136  601138  601166  601169  601186  601211  601225  \n",
      "601229  601236  601238  601288  601318  601319  601328  601336  601360  601377  \n",
      "601390  601398  601600  601601  601607  601618  601628  601633  601658  601668  \n",
      "601669  601688  601689  601698  601699  601728  601766  601788  601799  601800  \n",
      "601808  601816  601818  601825  601838  601857  601865  601868  601872  601877  \n",
      "601878  601881  601888  601898  601899  601901  601916  601919  601939  601985  \n",
      "601988  601989  601995  601998  603019  603195  603259  603260  603288  603296  \n",
      "603369  603392  603501  603799  603806  603833  603986  603993  605117  605499  \n",
      "688008  688009  688012  688036  688041  688047  688082  688111  688126  688169  \n",
      "688187  688223  688256  688271  688303  688396  688472  688506  688599  688981  \n",
      "\n",
      "\n",
      "代码列表: ['000001', '000002', '000063', '000100', '000157', '000166', '000301', '000333', '000338', '000408', '000425', '000538', '000568', '000596', '000617', '000625', '000630', '000651', '000661', '000708', '000725', '000768', '000776', '000786', '000792', '000800', '000807', '000858', '000876', '000895', '000938', '000963', '000975', '000977', '000983', '000999', '001289', '001391', '001965', '001979', '002001', '002027', '002028', '002049', '002050', '002074', '002129', '002142', '002179', '002180', '002230', '002236', '002241', '002252', '002304', '002311', '002352', '002371', '002415', '002422', '002459', '002460', '002463', '002466', '002475', '002493', '002594', '002600', '002601', '002648', '002709', '002714', '002736', '002916', '002920', '002938', '003816', '300014', '300015', '300033', '300059', '300122', '300124', '300274', '300308', '300316', '300347', '300394', '300408', '300413', '300418', '300433', '300442', '300498', '300502', '300628', '300661', '300750', '300759', '300760', '300782', '300832', '300896', '300979', '300999', '301236', '301269', '302132', '600000', '600009', '600010', '600011', '600015', '600016', '600018', '600019', '600023', '600025', '600026', '600027', '600028', '600029', '600030', '600031', '600036', '600039', '600048', '600050', '600061', '600066', '600085', '600089', '600104', '600111', '600115', '600150', '600160', '600161', '600176', '600183', '600188', '600196', '600219', '600233', '600276', '600309', '600332', '600346', '600362', '600372', '600377', '600406', '600415', '600426', '600436', '600438', '600460', '600482', '600489', '600515', '600519', '600547', '600570', '600584', '600585', '600588', '600600', '600660', '600674', '600690', '600741', '600760', '600795', '600803', '600809', '600845', '600875', '600886', '600887', '600893', '600900', '600905', '600918', '600919', '600926', '600938', '600941', '600958', '600989', '600999', '601006', '601009', '601012', '601021', '601058', '601059', '601066', '601077', '601088', '601100', '601111', '601117', '601127', '601136', '601138', '601166', '601169', '601186', '601211', '601225', '601229', '601236', '601238', '601288', '601318', '601319', '601328', '601336', '601360', '601377', '601390', '601398', '601600', '601601', '601607', '601618', '601628', '601633', '601658', '601668', '601669', '601688', '601689', '601698', '601699', '601728', '601766', '601788', '601799', '601800', '601808', '601816', '601818', '601825', '601838', '601857', '601865', '601868', '601872', '601877', '601878', '601881', '601888', '601898', '601899', '601901', '601916', '601919', '601939', '601985', '601988', '601989', '601995', '601998', '603019', '603195', '603259', '603260', '603288', '603296', '603369', '603392', '603501', '603799', '603806', '603833', '603986', '603993', '605117', '605499', '688008', '688009', '688012', '688036', '688041', '688047', '688082', '688111', '688126', '688169', '688187', '688223', '688256', '688271', '688303', '688396', '688472', '688506', '688599', '688981']\n",
      "<class 'str'>\n"
     ]
    }
   ],
   "execution_count": 11
  },
  {
   "metadata": {
    "ExecuteTime": {
     "end_time": "2025-07-16T13:45:02.586077Z",
     "start_time": "2025-07-16T13:45:02.578289Z"
    }
   },
   "cell_type": "code",
   "source": [
    "# 检查 as_unique_codes 中每个元素是否都出现在 qs_unique_codes 中\n",
    "all_in = all(code in qs_unique_codes for code in as_unique_codes)\n",
    "print(f\"as_unique_codes 中的所有元素是否都在 qs_unique_codes 中: {all_in}\")"
   ],
   "id": "b2f6638c88b88721",
   "outputs": [
    {
     "name": "stdout",
     "output_type": "stream",
     "text": [
      "as_unique_codes 中的所有元素是否都在 qs_unique_codes 中: True\n"
     ]
    }
   ],
   "execution_count": 13
  },
  {
   "metadata": {
    "ExecuteTime": {
     "end_time": "2025-07-17T12:16:04.140686Z",
     "start_time": "2025-07-17T12:16:04.125950Z"
    }
   },
   "cell_type": "code",
   "source": [
    "import pandas as pd\n",
    "\n",
    "# 创建示例DataFrame\n",
    "df = pd.DataFrame({\n",
    "    'A': [1, 2, 3, 4, 5],\n",
    "    'B': ['a', 'b', 'c', 'd', 'e'],\n",
    "    'C': [10.1, 20.2, 30.3, 40.4, 50.5]\n",
    "})\n",
    "\n",
    "print(\"原始DataFrame:\")\n",
    "print(df)\n",
    "print()\n",
    "\n",
    "# 访问第2行第1列的元素（索引从0开始）\n",
    "element = df.iloc[1, 0]  # 第2行，第1列\n",
    "print(f\"第2行第1列的元素: {element}\")  # 输出: 2\n",
    "\n",
    "# 访问第3行第2列的元素\n",
    "element = df.iloc[2, 1]  # 第3行，第2列\n",
    "print(f\"第3行第2列的元素: {element}\")  # 输出: c"
   ],
   "id": "925d3abe18036382",
   "outputs": [
    {
     "name": "stdout",
     "output_type": "stream",
     "text": [
      "原始DataFrame:\n",
      "   A  B     C\n",
      "0  1  a  10.1\n",
      "1  2  b  20.2\n",
      "2  3  c  30.3\n",
      "3  4  d  40.4\n",
      "4  5  e  50.5\n",
      "\n",
      "第2行第1列的元素: 2\n",
      "第3行第2列的元素: c\n"
     ]
    }
   ],
   "execution_count": 4
  },
  {
   "metadata": {
    "ExecuteTime": {
     "end_time": "2025-07-17T12:15:32.440640Z",
     "start_time": "2025-07-17T12:15:32.432557Z"
    }
   },
   "cell_type": "code",
   "source": [
    "# 假设我们有以下股票数据\n",
    "stock_data = pd.DataFrame({\n",
    "    '日期': ['2025-07-15', '2025-07-16', '2025-07-17', '2025-07-18', '2025-07-19'],\n",
    "    '开盘': [10.0, 10.2, 10.1, 10.3, 10.5],\n",
    "    '最高': [10.5, 10.8, 10.6, 10.9, 11.0],\n",
    "    '最低': [9.8, 10.0, 9.9, 10.1, 10.3],\n",
    "    '收盘': [10.2, 10.6, 10.4, 10.7, 10.9],\n",
    "    '成交量': [1000, 1200, 1100, 1300, 1400]\n",
    "})\n",
    "\n",
    "print(\"股票数据:\")\n",
    "print(stock_data)\n",
    "print()\n",
    "\n",
    "# 获取最新一天的数据（最后一行）\n",
    "latest_data = stock_data.iloc[-1]\n",
    "print(\"最新一天数据:\")\n",
    "print(latest_data)\n",
    "print()\n",
    "\n",
    "# 获取最近3天的收盘价\n",
    "recent_closes = stock_data.iloc[-3:, 4]  # 最后3行，第5列（收盘价）\n",
    "print(\"最近3天收盘价:\")\n",
    "print(recent_closes)\n",
    "print()\n",
    "\n",
    "# 获取第2-4天的所有数据\n",
    "middle_data = stock_data.iloc[1:4, :]\n",
    "print(\"第2-4天数据:\")\n",
    "print(middle_data)"
   ],
   "id": "5201761dc38b39fd",
   "outputs": [
    {
     "name": "stdout",
     "output_type": "stream",
     "text": [
      "股票数据:\n",
      "           日期    开盘    最高    最低    收盘   成交量\n",
      "0  2025-07-15  10.0  10.5   9.8  10.2  1000\n",
      "1  2025-07-16  10.2  10.8  10.0  10.6  1200\n",
      "2  2025-07-17  10.1  10.6   9.9  10.4  1100\n",
      "3  2025-07-18  10.3  10.9  10.1  10.7  1300\n",
      "4  2025-07-19  10.5  11.0  10.3  10.9  1400\n",
      "\n",
      "最新一天数据:\n",
      "日期     2025-07-19\n",
      "开盘           10.5\n",
      "最高           11.0\n",
      "最低           10.3\n",
      "收盘           10.9\n",
      "成交量          1400\n",
      "Name: 4, dtype: object\n",
      "\n",
      "最近3天收盘价:\n",
      "2    10.4\n",
      "3    10.7\n",
      "4    10.9\n",
      "Name: 收盘, dtype: float64\n",
      "\n",
      "第2-4天数据:\n",
      "           日期    开盘    最高    最低    收盘   成交量\n",
      "1  2025-07-16  10.2  10.8  10.0  10.6  1200\n",
      "2  2025-07-17  10.1  10.6   9.9  10.4  1100\n",
      "3  2025-07-18  10.3  10.9  10.1  10.7  1300\n"
     ]
    }
   ],
   "execution_count": 3
  },
  {
   "metadata": {
    "ExecuteTime": {
     "end_time": "2025-07-22T02:26:08.365951Z",
     "start_time": "2025-07-22T02:26:08.363235Z"
    }
   },
   "cell_type": "code",
   "source": [
    "def calculate_increase(now, old):\n",
    "    if old == 0:\n",
    "        return None\n",
    "    increase = (now - old) / old * 100\n",
    "    return f\"{increase:.2f}%\"\n",
    "\n",
    "print(calculate_increase(5.45, 5.38))"
   ],
   "id": "d2dec89b867a9c80",
   "outputs": [
    {
     "name": "stdout",
     "output_type": "stream",
     "text": [
      "1.30%\n"
     ]
    }
   ],
   "execution_count": 9
  }
 ],
 "metadata": {
  "kernelspec": {
   "display_name": "Python 3",
   "language": "python",
   "name": "python3"
  },
  "language_info": {
   "codemirror_mode": {
    "name": "ipython",
    "version": 2
   },
   "file_extension": ".py",
   "mimetype": "text/x-python",
   "name": "python",
   "nbconvert_exporter": "python",
   "pygments_lexer": "ipython2",
   "version": "2.7.6"
  }
 },
 "nbformat": 4,
 "nbformat_minor": 5
}
