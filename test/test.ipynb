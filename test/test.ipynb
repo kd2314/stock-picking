{
 "cells": [
  {
   "cell_type": "code",
   "id": "initial_id",
   "metadata": {
    "collapsed": true,
    "ExecuteTime": {
     "end_time": "2025-07-22T06:35:12.613753Z",
     "start_time": "2025-07-22T06:35:12.608193Z"
    }
   },
   "source": [
    "import json\n",
    "\n",
    "def deduplicate_json(input_file, output_file):\n",
    "    # 读取JSON文件\n",
    "    with open(input_file, 'r', encoding='utf-8') as f:\n",
    "        data = json.load(f)\n",
    "\n",
    "    # 使用字典进行去重\n",
    "    unique_dict = {}\n",
    "    for item in data:\n",
    "        key = (item['code'], item['name'])\n",
    "        if key not in unique_dict:\n",
    "            unique_dict[key] = item\n",
    "\n",
    "    # 将去重后的数据转换回列表\n",
    "    deduplicated_data = list(unique_dict.values())\n",
    "\n",
    "    # 写入新的JSON文件\n",
    "    with open(output_file, 'w', encoding='utf-8') as f:\n",
    "        json.dump(deduplicated_data, f, ensure_ascii=False, indent=2)\n",
    "\n",
    "    print(f\"原始数据数量: {len(data)}\")\n",
    "    print(f\"去重后数据数量: {len(deduplicated_data)}\")\n",
    "\n",
    "# 使用函数\n",
    "input_file = 'hushen300.json'\n",
    "output_file = 'hushen300_deduplicated.json'\n",
    "deduplicate_json(input_file, output_file)"
   ],
   "outputs": [
    {
     "name": "stdout",
     "output_type": "stream",
     "text": [
      "原始数据数量: 300\n",
      "去重后数据数量: 282\n"
     ]
    }
   ],
   "execution_count": 11
  },
  {
   "metadata": {
    "ExecuteTime": {
     "end_time": "2025-07-22T06:35:15.083522Z",
     "start_time": "2025-07-22T06:35:12.625317Z"
    }
   },
   "cell_type": "code",
   "source": [
    "import akshare as ak\n",
    "import pandas as pd\n",
    "\n",
    "def get_hushen300_stocks():\n",
    "    \"\"\"\n",
    "    获取沪深300成分股列表，返回包含股票代码和名称的DataFrame，\n",
    "    其中股票代码列名为 'code'，股票名称列名为 'name'。\n",
    "    对股票代码进行去重，保留首次出现的记录。\n",
    "    \"\"\"\n",
    "    df = ak.index_stock_cons(symbol=\"000300\")\n",
    "    stocks = pd.DataFrame({\n",
    "        'code': df['品种代码'],\n",
    "        'name': df['品种名称']\n",
    "    })\n",
    "    # 根据code去重，保留第一次出现的记录\n",
    "    stocks = stocks.drop_duplicates(subset=['code'], keep='first').reset_index(drop=True)\n",
    "    return stocks\n",
    "\n",
    "# 使用示例\n",
    "hushen300_stocks = get_hushen300_stocks()\n",
    "print(hushen300_stocks)\n",
    "as_unique_codes = hushen300_stocks['code'].tolist()\n",
    "print(type(as_unique_codes[0]))"
   ],
   "id": "72fc1bf3d7c0cb0d",
   "outputs": [
    {
     "name": "stdout",
     "output_type": "stream",
     "text": [
      "       code  name\n",
      "0    302132  中航成飞\n",
      "1    001391   国货航\n",
      "2    688047  龙芯中科\n",
      "3    002600  领益智造\n",
      "4    601077  渝农商行\n",
      "..      ...   ...\n",
      "277  600030  中信证券\n",
      "278  600031  三一重工\n",
      "279  600036  招商银行\n",
      "280  600050  中国联通\n",
      "281  000002   万科A\n",
      "\n",
      "[282 rows x 2 columns]\n",
      "<class 'str'>\n"
     ]
    }
   ],
   "execution_count": 12
  },
  {
   "metadata": {},
   "cell_type": "markdown",
   "source": "# Diff两个json的代码",
   "id": "8c4f0236c20389f0"
  },
  {
   "metadata": {
    "ExecuteTime": {
     "end_time": "2025-07-22T06:35:15.104640Z",
     "start_time": "2025-07-22T06:35:15.096720Z"
    }
   },
   "cell_type": "code",
   "source": [
    "def compare_json(json1_path, json2_path):\n",
    "    with open(json1_path, 'r', encoding='utf-8') as f1, open(json2_path, 'r', encoding='utf-8') as f2:\n",
    "        data1 = json.load(f1)\n",
    "        data2 = json.load(f2)\n",
    "\n",
    "    code_data1 = {item[\"code\"]: item for item in data1[\"signals\"]}\n",
    "    code_data2 = {item[\"code\"]: item for item in data2[\"signals\"]}\n",
    "\n",
    "    all_codes = set(code_data1.keys()).union(set(code_data2.keys()))\n",
    "    diffs = []\n",
    "    for code in all_codes:\n",
    "        item1 = code_data1.get(code, {})\n",
    "        item2 = code_data2.get(code, {})\n",
    "        keys1 = set(item1.keys())\n",
    "        keys2 = set(item2.keys())\n",
    "        all_keys = keys1.union(keys2)\n",
    "        for key in all_keys:\n",
    "            if key != \"code\" and item1.get(key) != item2.get(key):\n",
    "                diffs.append({\n",
    "                    \"code\": code,\n",
    "                    \"key\": key,\n",
    "                    \"value_in_json1\": item1.get(key),\n",
    "                    \"value_in_json2\": item2.get(key)\n",
    "                })\n",
    "    return diffs\n",
    "\n",
    "# 假设json1.json和json2.json是你要比较的两个文件路径\n",
    "json1_path = '../log/signal-linux-qstock.json'\n",
    "json2_path = '../log/signal-linux-akshare.json'\n",
    "differences = compare_json(json1_path, json2_path)\n",
    "for diff in differences:\n",
    "    print(diff)"
   ],
   "id": "d8433ad6a8fb84d",
   "outputs": [
    {
     "name": "stdout",
     "output_type": "stream",
     "text": [
      "{'code': '300408', 'key': 'close', 'value_in_json1': 32.01, 'value_in_json2': None}\n",
      "{'code': '300408', 'key': 'name', 'value_in_json1': '三环集团', 'value_in_json2': None}\n",
      "{'code': '300408', 'key': 'date', 'value_in_json1': '2025-07-16', 'value_in_json2': None}\n",
      "{'code': '300408', 'key': 'signals', 'value_in_json1': {'顶钝化': False, '底钝化': False, '顶结构': False, '底结构': False, '顶背离': False, '底背离': False, '主升': False, '顶成立': False, '底成立': False}, 'value_in_json2': None}\n",
      "{'code': '000425', 'key': 'name', 'value_in_json1': '徐工机械', 'value_in_json2': '徐工科技'}\n",
      "{'code': '688256', 'key': 'close', 'value_in_json1': 579.01, 'value_in_json2': None}\n",
      "{'code': '688256', 'key': 'name', 'value_in_json1': '寒武纪', 'value_in_json2': None}\n",
      "{'code': '688256', 'key': 'date', 'value_in_json1': '2025-07-16', 'value_in_json2': None}\n",
      "{'code': '688256', 'key': 'signals', 'value_in_json1': {'顶钝化': False, '底钝化': False, '顶结构': False, '底结构': False, '顶背离': False, '底背离': False, '主升': False, '顶成立': False, '底成立': False}, 'value_in_json2': None}\n",
      "{'code': '000100', 'key': 'name', 'value_in_json1': 'TCL科技', 'value_in_json2': 'TCL集团'}\n",
      "{'code': '002493', 'key': 'close', 'value_in_json1': 8.44, 'value_in_json2': None}\n",
      "{'code': '002493', 'key': 'name', 'value_in_json1': '荣盛石化', 'value_in_json2': None}\n",
      "{'code': '002493', 'key': 'date', 'value_in_json1': '2025-07-16', 'value_in_json2': None}\n",
      "{'code': '002493', 'key': 'signals', 'value_in_json1': {'顶钝化': False, '底钝化': False, '顶结构': False, '底结构': False, '顶背离': False, '底背离': False, '主升': False, '顶成立': False, '底成立': False}, 'value_in_json2': None}\n",
      "{'code': '600104', 'key': 'close', 'value_in_json1': 18.01, 'value_in_json2': None}\n",
      "{'code': '600104', 'key': 'name', 'value_in_json1': '上汽集团', 'value_in_json2': None}\n",
      "{'code': '600104', 'key': 'date', 'value_in_json1': '2025-07-16', 'value_in_json2': None}\n",
      "{'code': '600104', 'key': 'signals', 'value_in_json1': {'顶钝化': False, '底钝化': False, '顶结构': False, '底结构': False, '顶背离': False, '底背离': False, '主升': False, '顶成立': False, '底成立': False}, 'value_in_json2': None}\n",
      "{'code': '601211', 'key': 'name', 'value_in_json1': '国泰海通', 'value_in_json2': '国泰君安'}\n",
      "{'code': '600346', 'key': 'name', 'value_in_json1': '恒力石化', 'value_in_json2': '恒力股份'}\n",
      "{'code': '600346', 'key': 'signals', 'value_in_json1': {'顶钝化': False, '底钝化': True, '顶结构': False, '底结构': False, '顶背离': False, '底背离': True, '主升': False, '顶成立': False, '底成立': False}, 'value_in_json2': {'顶钝化': False, '底钝化': False, '顶结构': False, '底结构': False, '顶背离': False, '底背离': False, '主升': False, '顶成立': False, '底成立': False}}\n",
      "{'code': '600406', 'key': 'signals', 'value_in_json1': {'顶钝化': False, '底钝化': False, '顶结构': False, '底结构': False, '顶背离': False, '底背离': False, '主升': False, '顶成立': False, '底成立': False}, 'value_in_json2': {'顶钝化': False, '底钝化': True, '顶结构': False, '底结构': False, '顶背离': False, '底背离': True, '主升': False, '顶成立': False, '底成立': False}}\n",
      "{'code': '601919', 'key': 'name', 'value_in_json1': '中远海控', 'value_in_json2': '中国远洋'}\n",
      "{'code': '000001', 'key': 'name', 'value_in_json1': '平安银行', 'value_in_json2': '深发展A'}\n",
      "{'code': '600111', 'key': 'name', 'value_in_json1': '北方稀土', 'value_in_json2': '包钢稀土'}\n",
      "{'code': '301269', 'key': 'close', 'value_in_json1': 109.42, 'value_in_json2': None}\n",
      "{'code': '301269', 'key': 'name', 'value_in_json1': '华大九天', 'value_in_json2': None}\n",
      "{'code': '301269', 'key': 'date', 'value_in_json1': '2025-07-16', 'value_in_json2': None}\n",
      "{'code': '301269', 'key': 'signals', 'value_in_json1': {'顶钝化': False, '底钝化': False, '顶结构': False, '底结构': False, '顶背离': False, '底背离': False, '主升': False, '顶成立': False, '底成立': False}, 'value_in_json2': None}\n",
      "{'code': '600893', 'key': 'name', 'value_in_json1': '航发动力', 'value_in_json2': '航空动力'}\n",
      "{'code': '601012', 'key': 'name', 'value_in_json1': '隆基绿能', 'value_in_json2': '隆基股份'}\n",
      "{'code': '600023', 'key': 'signals', 'value_in_json1': {'顶钝化': False, '底钝化': False, '顶结构': False, '底结构': False, '顶背离': False, '底背离': False, '主升': False, '顶成立': False, '底成立': False}, 'value_in_json2': {'顶钝化': False, '底钝化': True, '顶结构': False, '底结构': False, '顶背离': False, '底背离': True, '主升': False, '顶成立': False, '底成立': False}}\n",
      "{'code': '600900', 'key': 'close', 'value_in_json1': 30.43, 'value_in_json2': None}\n",
      "{'code': '600900', 'key': 'name', 'value_in_json1': '长江电力', 'value_in_json2': None}\n",
      "{'code': '600900', 'key': 'date', 'value_in_json1': '2025-07-16', 'value_in_json2': None}\n",
      "{'code': '600900', 'key': 'signals', 'value_in_json1': {'顶钝化': False, '底钝化': False, '顶结构': False, '底结构': False, '顶背离': False, '底背离': False, '主升': False, '顶成立': False, '底成立': False}, 'value_in_json2': None}\n",
      "{'code': '002050', 'key': 'close', 'value_in_json1': 27.79, 'value_in_json2': None}\n",
      "{'code': '002050', 'key': 'name', 'value_in_json1': '三花智控', 'value_in_json2': None}\n",
      "{'code': '002050', 'key': 'date', 'value_in_json1': '2025-07-16', 'value_in_json2': None}\n",
      "{'code': '002050', 'key': 'signals', 'value_in_json1': {'顶钝化': False, '底钝化': False, '顶结构': False, '底结构': False, '顶背离': False, '底背离': False, '主升': False, '顶成立': False, '底成立': False}, 'value_in_json2': None}\n",
      "{'code': '688008', 'key': 'signals', 'value_in_json1': {'顶钝化': True, '底钝化': False, '顶结构': False, '底结构': False, '顶背离': True, '底背离': False, '主升': False, '顶成立': False, '底成立': False}, 'value_in_json2': {'顶钝化': False, '底钝化': False, '顶结构': False, '底结构': False, '顶背离': False, '底背离': False, '主升': False, '顶成立': False, '底成立': False}}\n",
      "{'code': '600048', 'key': 'name', 'value_in_json1': '保利发展', 'value_in_json2': '保利地产'}\n",
      "{'code': '000786', 'key': 'close', 'value_in_json1': 26.0, 'value_in_json2': None}\n",
      "{'code': '000786', 'key': 'name', 'value_in_json1': '北新建材', 'value_in_json2': None}\n",
      "{'code': '000786', 'key': 'date', 'value_in_json1': '2025-07-16', 'value_in_json2': None}\n",
      "{'code': '000786', 'key': 'signals', 'value_in_json1': {'顶钝化': False, '底钝化': False, '顶结构': False, '底结构': False, '顶背离': False, '底背离': False, '主升': False, '顶成立': False, '底成立': False}, 'value_in_json2': None}\n",
      "{'code': '601865', 'key': 'close', 'value_in_json1': 16.14, 'value_in_json2': None}\n",
      "{'code': '601865', 'key': 'name', 'value_in_json1': '福莱特', 'value_in_json2': None}\n",
      "{'code': '601865', 'key': 'date', 'value_in_json1': '2025-07-16', 'value_in_json2': None}\n",
      "{'code': '601865', 'key': 'signals', 'value_in_json1': {'顶钝化': False, '底钝化': False, '顶结构': False, '底结构': False, '顶背离': False, '底背离': False, '主升': False, '顶成立': False, '底成立': False}, 'value_in_json2': None}\n",
      "{'code': '600115', 'key': 'name', 'value_in_json1': '中国东航', 'value_in_json2': '东方航空'}\n",
      "{'code': '601816', 'key': 'signals', 'value_in_json1': {'顶钝化': False, '底钝化': False, '顶结构': False, '底结构': True, '顶背离': False, '底背离': True, '主升': False, '顶成立': False, '底成立': False}, 'value_in_json2': {'顶钝化': False, '底钝化': False, '顶结构': False, '底结构': False, '顶背离': False, '底背离': False, '主升': False, '顶成立': False, '底成立': False}}\n",
      "{'code': '601766', 'key': 'name', 'value_in_json1': '中国中车', 'value_in_json2': '中国南车'}\n",
      "{'code': '601808', 'key': 'close', 'value_in_json1': 13.7, 'value_in_json2': None}\n",
      "{'code': '601808', 'key': 'name', 'value_in_json1': '中海油服', 'value_in_json2': None}\n",
      "{'code': '601808', 'key': 'date', 'value_in_json1': '2025-07-16', 'value_in_json2': None}\n",
      "{'code': '601808', 'key': 'signals', 'value_in_json1': {'顶钝化': False, '底钝化': False, '顶结构': False, '底结构': False, '顶背离': False, '底背离': False, '主升': False, '顶成立': False, '底成立': False}, 'value_in_json2': None}\n",
      "{'code': '600196', 'key': 'close', 'value_in_json1': 26.2, 'value_in_json2': None}\n",
      "{'code': '600196', 'key': 'name', 'value_in_json1': '复星医药', 'value_in_json2': None}\n",
      "{'code': '600196', 'key': 'date', 'value_in_json1': '2025-07-16', 'value_in_json2': None}\n",
      "{'code': '600196', 'key': 'signals', 'value_in_json1': {'顶钝化': True, '底钝化': False, '顶结构': False, '底结构': False, '顶背离': True, '底背离': False, '主升': False, '顶成立': False, '底成立': False}, 'value_in_json2': None}\n",
      "{'code': '600027', 'key': 'signals', 'value_in_json1': {'顶钝化': False, '底钝化': False, '顶结构': False, '底结构': False, '顶背离': False, '底背离': False, '主升': False, '顶成立': False, '底成立': False}, 'value_in_json2': {'顶钝化': False, '底钝化': True, '顶结构': False, '底结构': False, '顶背离': False, '底背离': True, '主升': False, '顶成立': False, '底成立': False}}\n",
      "{'code': '600309', 'key': 'close', 'value_in_json1': 54.85, 'value_in_json2': None}\n",
      "{'code': '600309', 'key': 'name', 'value_in_json1': '万华化学', 'value_in_json2': None}\n",
      "{'code': '600309', 'key': 'date', 'value_in_json1': '2025-07-16', 'value_in_json2': None}\n",
      "{'code': '600309', 'key': 'signals', 'value_in_json1': {'顶钝化': False, '底钝化': False, '顶结构': False, '底结构': False, '顶背离': False, '底背离': False, '主升': False, '顶成立': False, '底成立': False}, 'value_in_json2': None}\n",
      "{'code': '000768', 'key': 'name', 'value_in_json1': '中航西飞', 'value_in_json2': '西飞国际'}\n",
      "{'code': '300433', 'key': 'close', 'value_in_json1': 23.5, 'value_in_json2': None}\n",
      "{'code': '300433', 'key': 'name', 'value_in_json1': '蓝思科技', 'value_in_json2': None}\n",
      "{'code': '300433', 'key': 'date', 'value_in_json1': '2025-07-16', 'value_in_json2': None}\n",
      "{'code': '300433', 'key': 'signals', 'value_in_json1': {'顶钝化': False, '底钝化': False, '顶结构': False, '底结构': False, '顶背离': False, '底背离': False, '主升': False, '顶成立': False, '底成立': False}, 'value_in_json2': None}\n",
      "{'code': '002129', 'key': 'name', 'value_in_json1': 'TCL中环', 'value_in_json2': '中环股份'}\n",
      "{'code': '601669', 'key': 'name', 'value_in_json1': '中国电建', 'value_in_json2': '中国水电'}\n",
      "{'code': '600061', 'key': 'name', 'value_in_json1': '国投资本', 'value_in_json2': '国投安信'}\n",
      "{'code': '600085', 'key': 'close', 'value_in_json1': 35.37, 'value_in_json2': None}\n",
      "{'code': '600085', 'key': 'name', 'value_in_json1': '同仁堂', 'value_in_json2': None}\n",
      "{'code': '600085', 'key': 'date', 'value_in_json1': '2025-07-16', 'value_in_json2': None}\n",
      "{'code': '600085', 'key': 'signals', 'value_in_json1': {'顶钝化': False, '底钝化': False, '顶结构': False, '底结构': False, '顶背离': False, '底背离': False, '主升': False, '顶成立': False, '底成立': False}, 'value_in_json2': None}\n",
      "{'code': '600795', 'key': 'close', 'value_in_json1': 4.71, 'value_in_json2': None}\n",
      "{'code': '600795', 'key': 'name', 'value_in_json1': '国电电力', 'value_in_json2': None}\n",
      "{'code': '600795', 'key': 'date', 'value_in_json1': '2025-07-16', 'value_in_json2': None}\n",
      "{'code': '600795', 'key': 'signals', 'value_in_json1': {'顶钝化': False, '底钝化': False, '顶结构': False, '底结构': False, '顶背离': False, '底背离': False, '主升': False, '顶成立': False, '底成立': False}, 'value_in_json2': None}\n",
      "{'code': '600000', 'key': 'close', 'value_in_json1': 13.34, 'value_in_json2': None}\n",
      "{'code': '600000', 'key': 'name', 'value_in_json1': '浦发银行', 'value_in_json2': None}\n",
      "{'code': '600000', 'key': 'date', 'value_in_json1': '2025-07-16', 'value_in_json2': None}\n",
      "{'code': '600000', 'key': 'signals', 'value_in_json1': {'顶钝化': False, '底钝化': False, '顶结构': False, '底结构': False, '顶背离': False, '底背离': False, '主升': False, '顶成立': False, '底成立': False}, 'value_in_json2': None}\n",
      "{'code': '600332', 'key': 'name', 'value_in_json1': '白云山', 'value_in_json2': '广州药业'}\n",
      "{'code': '002241', 'key': 'name', 'value_in_json1': '歌尔股份', 'value_in_json2': '歌尔声学'}\n",
      "{'code': '600690', 'key': 'name', 'value_in_json1': '海尔智家', 'value_in_json2': '青岛海尔'}\n",
      "{'code': '600741', 'key': 'close', 'value_in_json1': 18.57, 'value_in_json2': None}\n",
      "{'code': '600741', 'key': 'name', 'value_in_json1': '华域汽车', 'value_in_json2': None}\n",
      "{'code': '600741', 'key': 'date', 'value_in_json1': '2025-07-16', 'value_in_json2': None}\n",
      "{'code': '600741', 'key': 'signals', 'value_in_json1': {'顶钝化': False, '底钝化': False, '顶结构': False, '底结构': False, '顶背离': False, '底背离': False, '主升': False, '顶成立': False, '底成立': False}, 'value_in_json2': None}\n",
      "{'code': '002601', 'key': 'name', 'value_in_json1': '龙佰集团', 'value_in_json2': '龙蟒佰利'}\n",
      "{'code': '688041', 'key': 'close', 'value_in_json1': 137.28, 'value_in_json2': None}\n",
      "{'code': '688041', 'key': 'name', 'value_in_json1': '海光信息', 'value_in_json2': None}\n",
      "{'code': '688041', 'key': 'date', 'value_in_json1': '2025-07-16', 'value_in_json2': None}\n",
      "{'code': '688041', 'key': 'signals', 'value_in_json1': {'顶钝化': False, '底钝化': False, '顶结构': False, '底结构': False, '顶背离': False, '底背离': False, '主升': False, '顶成立': False, '底成立': False}, 'value_in_json2': None}\n",
      "{'code': '601888', 'key': 'name', 'value_in_json1': '中国中免', 'value_in_json2': '中国国旅'}\n",
      "{'code': '600588', 'key': 'name', 'value_in_json1': '用友网络', 'value_in_json2': '用友软件'}\n"
     ]
    }
   ],
   "execution_count": 13
  },
  {
   "metadata": {},
   "cell_type": "markdown",
   "source": "# QS接口的沪深300",
   "id": "7a9aa700a206160f"
  },
  {
   "metadata": {
    "ExecuteTime": {
     "end_time": "2025-07-22T06:37:03.042380Z",
     "start_time": "2025-07-22T06:37:03.031717Z"
    }
   },
   "cell_type": "code",
   "source": [
    "import json\n",
    "\n",
    "# 读取并提取股票代码（最简版本）\n",
    "with open('../log/signal-linux-qstock.json', 'r', encoding='utf-8') as f:\n",
    "    data = json.load(f)\n",
    "\n",
    "# 提取所有code并去重排序\n",
    "qs_unique_codes = sorted(list(set(item['code'] for item in data['signals'])))\n",
    "\n",
    "# 检查 as_unique_codes 中每个元素是否都出现在 qs_unique_codes 中\n",
    "all_in = all(code in qs_unique_codes for code in as_unique_codes)\n",
    "print(f\"as_unique_codes 中的所有元素是否都在 qs_unique_codes 中: {all_in}\")"
   ],
   "id": "45dfcf26905d2c8e",
   "outputs": [
    {
     "name": "stdout",
     "output_type": "stream",
     "text": [
      "as_unique_codes 中的所有元素是否都在 qs_unique_codes 中: True\n"
     ]
    }
   ],
   "execution_count": 19
  },
  {
   "metadata": {
    "ExecuteTime": {
     "end_time": "2025-07-22T06:52:43.474558Z",
     "start_time": "2025-07-22T06:52:43.469488Z"
    }
   },
   "cell_type": "code",
   "source": [
    "# 找出qs_unique_codes中不在as_unique_codes中的code\n",
    "diff_codes = [code for code in qs_unique_codes if code not in as_unique_codes]\n",
    "\n",
    "# 根据data找出这些code对应的股票名字\n",
    "diff_stocks = []\n",
    "for item in data['signals']:\n",
    "    if item['code'] in diff_codes:\n",
    "        diff_stocks.append({'code': item['code'], 'name': item.get('name', '')})\n",
    "\n",
    "print(len(diff_stocks))"
   ],
   "id": "3c841943f509e65d",
   "outputs": [
    {
     "name": "stdout",
     "output_type": "stream",
     "text": [
      "18\n"
     ]
    }
   ],
   "execution_count": 29
  },
  {
   "metadata": {
    "ExecuteTime": {
     "end_time": "2025-07-22T06:41:15.942998Z",
     "start_time": "2025-07-22T06:41:15.940477Z"
    }
   },
   "cell_type": "code",
   "source": "print('601872' in as_unique_codes)",
   "id": "bd74ecdbe5f6cc29",
   "outputs": [
    {
     "name": "stdout",
     "output_type": "stream",
     "text": [
      "True\n"
     ]
    }
   ],
   "execution_count": 26
  },
  {
   "metadata": {},
   "cell_type": "code",
   "outputs": [],
   "execution_count": null,
   "source": [
    "import pandas as pd\n",
    "\n",
    "# 创建示例DataFrame\n",
    "df = pd.DataFrame({\n",
    "    'A': [1, 2, 3, 4, 5],\n",
    "    'B': ['a', 'b', 'c', 'd', 'e'],\n",
    "    'C': [10.1, 20.2, 30.3, 40.4, 50.5]\n",
    "})\n",
    "\n",
    "print(\"原始DataFrame:\")\n",
    "print(df)\n",
    "print()\n",
    "\n",
    "# 访问第2行第1列的元素（索引从0开始）\n",
    "element = df.iloc[1, 0]  # 第2行，第1列\n",
    "print(f\"第2行第1列的元素: {element}\")  # 输出: 2\n",
    "\n",
    "# 访问第3行第2列的元素\n",
    "element = df.iloc[2, 1]  # 第3行，第2列\n",
    "print(f\"第3行第2列的元素: {element}\")  # 输出: c"
   ],
   "id": "c82cad5daa063eda"
  },
  {
   "metadata": {},
   "cell_type": "code",
   "outputs": [],
   "execution_count": null,
   "source": [
    "# 假设我们有以下股票数据\n",
    "stock_data = pd.DataFrame({\n",
    "    '日期': ['2025-07-15', '2025-07-16', '2025-07-17', '2025-07-18', '2025-07-19'],\n",
    "    '开盘': [10.0, 10.2, 10.1, 10.3, 10.5],\n",
    "    '最高': [10.5, 10.8, 10.6, 10.9, 11.0],\n",
    "    '最低': [9.8, 10.0, 9.9, 10.1, 10.3],\n",
    "    '收盘': [10.2, 10.6, 10.4, 10.7, 10.9],\n",
    "    '成交量': [1000, 1200, 1100, 1300, 1400]\n",
    "})\n",
    "\n",
    "print(\"股票数据:\")\n",
    "print(stock_data)\n",
    "print()\n",
    "\n",
    "# 获取最新一天的数据（最后一行）\n",
    "latest_data = stock_data.iloc[-1]\n",
    "print(\"最新一天数据:\")\n",
    "print(latest_data)\n",
    "print()\n",
    "\n",
    "# 获取最近3天的收盘价\n",
    "recent_closes = stock_data.iloc[-3:, 4]  # 最后3行，第5列（收盘价）\n",
    "print(\"最近3天收盘价:\")\n",
    "print(recent_closes)\n",
    "print()\n",
    "\n",
    "# 获取第2-4天的所有数据\n",
    "middle_data = stock_data.iloc[1:4, :]\n",
    "print(\"第2-4天数据:\")\n",
    "print(middle_data)"
   ],
   "id": "14ba0961a56a11a3"
  },
  {
   "metadata": {
    "ExecuteTime": {
     "end_time": "2025-07-22T06:35:15.213457Z",
     "start_time": "2025-07-22T06:35:15.211050Z"
    }
   },
   "cell_type": "code",
   "source": [
    "def calculate_increase(now, old):\n",
    "    if old == 0:\n",
    "        return None\n",
    "    increase = (now - old) / old * 100\n",
    "    return f\"{increase:.2f}%\"\n",
    "\n",
    "print(calculate_increase(5.45, 5.38))"
   ],
   "id": "d2dec89b867a9c80",
   "outputs": [
    {
     "name": "stdout",
     "output_type": "stream",
     "text": [
      "1.30%\n"
     ]
    }
   ],
   "execution_count": 18
  }
 ],
 "metadata": {
  "kernelspec": {
   "display_name": "Python 3",
   "language": "python",
   "name": "python3"
  },
  "language_info": {
   "codemirror_mode": {
    "name": "ipython",
    "version": 2
   },
   "file_extension": ".py",
   "mimetype": "text/x-python",
   "name": "python",
   "nbconvert_exporter": "python",
   "pygments_lexer": "ipython2",
   "version": "2.7.6"
  }
 },
 "nbformat": 4,
 "nbformat_minor": 5
}
